{
  "nbformat": 4,
  "nbformat_minor": 0,
  "metadata": {
    "colab": {
      "provenance": [],
      "authorship_tag": "ABX9TyNEIKCrdxnIdhu1QRTZb4XL",
      "include_colab_link": true
    },
    "kernelspec": {
      "name": "python3",
      "display_name": "Python 3"
    },
    "language_info": {
      "name": "python"
    }
  },
  "cells": [
    {
      "cell_type": "markdown",
      "metadata": {
        "id": "view-in-github",
        "colab_type": "text"
      },
      "source": [
        "<a href=\"https://colab.research.google.com/github/helango-seabiscuit/colab/blob/main/Linear_Algebra_05.ipynb\" target=\"_parent\"><img src=\"https://colab.research.google.com/assets/colab-badge.svg\" alt=\"Open In Colab\"/></a>"
      ]
    },
    {
      "cell_type": "code",
      "execution_count": null,
      "metadata": {
        "id": "pY9vSoPJHyCH"
      },
      "outputs": [],
      "source": [
        "import numpy as np\n",
        "import matplotlib.pyplot as plt\n",
        "\n",
        "import scipy.linalg\n",
        "from scipy.linalg import toeplitz\n",
        "\n",
        "import matplotlib_inline.backend_inline\n",
        "matplotlib_inline.backend_inline.set_matplotlib_formats('svg')\n",
        "plt.rcParams.update({'font.size':14})"
      ]
    },
    {
      "cell_type": "code",
      "source": [
        "M = np.arange(12).reshape(3,4)\n",
        "print(M)\n",
        "print(\"The matrix element at index (2,4) is \",M[1,3])"
      ],
      "metadata": {
        "colab": {
          "base_uri": "https://localhost:8080/"
        },
        "id": "h7t191-Vjgf5",
        "outputId": "47cd5368-adc9-4ee3-cac2-2bfd1600812f"
      },
      "execution_count": null,
      "outputs": [
        {
          "output_type": "stream",
          "name": "stdout",
          "text": [
            "[[ 0  1  2  3]\n",
            " [ 4  5  6  7]\n",
            " [ 8  9 10 11]]\n",
            "The matrix element at index (2,4) is  7\n"
          ]
        }
      ]
    },
    {
      "cell_type": "code",
      "source": [
        "C = np.arange(100).reshape(10,10)\n",
        "CP = np.zeros(100).reshape(10,10)\n",
        "print(C)\n",
        "C1 = C[0:5,0:5]\n",
        "C2 = C[0:5,5:]\n",
        "C3 = C[5:,0:5]\n",
        "C4 = C[5:,5:]\n",
        "CP[0:5,0:5] = C4\n",
        "CP[0:5,5:]=C3\n",
        "CP[5:,0:5] = C2\n",
        "CP[5:,5:]= C1\n",
        "print(CP)"
      ],
      "metadata": {
        "colab": {
          "base_uri": "https://localhost:8080/"
        },
        "id": "lXScsQpakP1T",
        "outputId": "5038f619-64c3-4ae6-8990-50e04eacbdd9"
      },
      "execution_count": null,
      "outputs": [
        {
          "output_type": "stream",
          "name": "stdout",
          "text": [
            "[[ 0  1  2  3  4  5  6  7  8  9]\n",
            " [10 11 12 13 14 15 16 17 18 19]\n",
            " [20 21 22 23 24 25 26 27 28 29]\n",
            " [30 31 32 33 34 35 36 37 38 39]\n",
            " [40 41 42 43 44 45 46 47 48 49]\n",
            " [50 51 52 53 54 55 56 57 58 59]\n",
            " [60 61 62 63 64 65 66 67 68 69]\n",
            " [70 71 72 73 74 75 76 77 78 79]\n",
            " [80 81 82 83 84 85 86 87 88 89]\n",
            " [90 91 92 93 94 95 96 97 98 99]]\n",
            "[[55. 56. 57. 58. 59. 50. 51. 52. 53. 54.]\n",
            " [65. 66. 67. 68. 69. 60. 61. 62. 63. 64.]\n",
            " [75. 76. 77. 78. 79. 70. 71. 72. 73. 74.]\n",
            " [85. 86. 87. 88. 89. 80. 81. 82. 83. 84.]\n",
            " [95. 96. 97. 98. 99. 90. 91. 92. 93. 94.]\n",
            " [ 5.  6.  7.  8.  9.  0.  1.  2.  3.  4.]\n",
            " [15. 16. 17. 18. 19. 10. 11. 12. 13. 14.]\n",
            " [25. 26. 27. 28. 29. 20. 21. 22. 23. 24.]\n",
            " [35. 36. 37. 38. 39. 30. 31. 32. 33. 34.]\n",
            " [45. 46. 47. 48. 49. 40. 41. 42. 43. 44.]]\n"
          ]
        }
      ]
    },
    {
      "cell_type": "code",
      "source": [
        "C = np.arange(12).reshape(4,3)\n",
        "D = np.arange(12).reshape(4,3)\n",
        "R = np.zeros(12).reshape(4,3)\n",
        "print(C)\n",
        "print(D)\n",
        "for i in range(C.shape[0]):\n",
        "   for j in range(C.shape[1]):\n",
        "     R[i,j] = C[i,j]+D[i,j]\n",
        "print(R)"
      ],
      "metadata": {
        "colab": {
          "base_uri": "https://localhost:8080/"
        },
        "id": "7JiPllBW5tqQ",
        "outputId": "29591fca-f156-4b80-d7d2-cf3b74edb701"
      },
      "execution_count": null,
      "outputs": [
        {
          "output_type": "stream",
          "name": "stdout",
          "text": [
            "[[ 0  1  2]\n",
            " [ 3  4  5]\n",
            " [ 6  7  8]\n",
            " [ 9 10 11]]\n",
            "[[ 0  1  2]\n",
            " [ 3  4  5]\n",
            " [ 6  7  8]\n",
            " [ 9 10 11]]\n",
            "[[ 0.  2.  4.]\n",
            " [ 6.  8. 10.]\n",
            " [12. 14. 16.]\n",
            " [18. 20. 22.]]\n"
          ]
        }
      ]
    },
    {
      "cell_type": "code",
      "source": [
        "A = np.random.randn(3,4)\n",
        "B = np.random.randn(3,4)\n",
        "s = np.random.randn()\n",
        "\n",
        "expr1 = s*(A+B)\n",
        "expr2 = s*A+s*B\n",
        "expr3 = A*s+B*s\n",
        "print(np.round(2*expr3-expr1-expr2))"
      ],
      "metadata": {
        "colab": {
          "base_uri": "https://localhost:8080/"
        },
        "id": "1_sE4kYKTXWJ",
        "outputId": "ee203020-f0a2-4e3a-e51d-f02aa6706ed4"
      },
      "execution_count": null,
      "outputs": [
        {
          "output_type": "stream",
          "name": "stdout",
          "text": [
            "[[ 0.  0.  0.  0.]\n",
            " [ 0.  0.  0. -0.]\n",
            " [ 0.  0.  0.  0.]]\n"
          ]
        }
      ]
    },
    {
      "cell_type": "code",
      "source": [
        "A = np.random.randn(4,4)\n",
        "B = np.random.randn(4,4)\n",
        "# print(A)\n",
        "# print(B)\n",
        "shapeA = A.shape\n",
        "shapeB = B.shape\n",
        "\n",
        "if shapeA[1] != shapeB[0]:\n",
        "   print(\"invalid matrices for multiplication\")\n",
        "C = np.zeros((shapeA[0],shapeB[1]))\n",
        "for i in range(shapeA[0]):\n",
        "  for j in range(shapeB[1]):\n",
        "    k = shapeA[1]\n",
        "    for z in range(k):\n",
        "      C[i,j] += A[i,z]*B[z,j]\n",
        "\n",
        "D = A@B\n",
        "print(C)\n",
        "print(D)\n",
        "np.isclose(C,D)"
      ],
      "metadata": {
        "colab": {
          "base_uri": "https://localhost:8080/"
        },
        "id": "ZeDxXZVeUNFo",
        "outputId": "822d6344-0f81-4c4f-fe09-fee466e11bc6"
      },
      "execution_count": null,
      "outputs": [
        {
          "output_type": "stream",
          "name": "stdout",
          "text": [
            "[[ 0.08700611  0.28932256 -0.22931998  0.03291228]\n",
            " [-1.42434367 -0.38740878 -0.57914928 -1.12626728]\n",
            " [-2.40071278 -0.59011579  0.08352494  0.34481076]\n",
            " [-1.40425467  0.01499989  0.44547465  1.73941546]]\n",
            "[[ 0.08700611  0.28932256 -0.22931998  0.03291228]\n",
            " [-1.42434367 -0.38740878 -0.57914928 -1.12626728]\n",
            " [-2.40071278 -0.59011579  0.08352494  0.34481076]\n",
            " [-1.40425467  0.01499989  0.44547465  1.73941546]]\n"
          ]
        },
        {
          "output_type": "execute_result",
          "data": {
            "text/plain": [
              "array([[ True,  True,  True,  True],\n",
              "       [ True,  True,  True,  True],\n",
              "       [ True,  True,  True,  True],\n",
              "       [ True,  True,  True,  True]])"
            ]
          },
          "metadata": {},
          "execution_count": 8
        }
      ]
    },
    {
      "cell_type": "code",
      "source": [
        "L = np.random.randn(2,6)\n",
        "I = np.random.randn(6,3)\n",
        "V = np.random.randn(3,5)\n",
        "E = np.random.randn(5,2)\n",
        "\n",
        "lm = (L@I@V@E).T\n",
        "print(lm)\n",
        "\n",
        "Lt = L.T\n",
        "It = I.T\n",
        "Vt = V.T\n",
        "Et = E.T\n",
        "\n",
        "# rmnoReverse = Lt@It@Vt@Et\n",
        "rmreverse = Et@Vt@It@Lt\n",
        "print(rmreverse)"
      ],
      "metadata": {
        "colab": {
          "base_uri": "https://localhost:8080/"
        },
        "id": "pizjbAilh5Hn",
        "outputId": "ba0dd286-e6de-4e0d-c936-0e4e51f6a100"
      },
      "execution_count": null,
      "outputs": [
        {
          "output_type": "stream",
          "name": "stdout",
          "text": [
            "[[ 0.38324582  2.66354194]\n",
            " [ 3.95931041 -0.54033746]]\n",
            "[[ 0.38324582  2.66354194]\n",
            " [ 3.95931041 -0.54033746]]\n"
          ]
        }
      ]
    },
    {
      "cell_type": "code",
      "source": [
        "def isSymmetric(v):\n",
        "  if v.shape[0] != v.shape[1]:\n",
        "    return False\n",
        "\n",
        "  for i in range(v.shape[0]):\n",
        "    for j in range(v.shape[0]):\n",
        "      if np.isclose(v[i,j], v[j,i]) == False:\n",
        "        return False\n",
        "  return True\n",
        "\n",
        "V = np.random.randn(4,4)\n",
        "Vt = V.T@V\n",
        "\n",
        "print(isSymmetric(V))\n",
        "print(isSymmetric(Vt))\n"
      ],
      "metadata": {
        "colab": {
          "base_uri": "https://localhost:8080/"
        },
        "id": "QYZhpRbYjHzK",
        "outputId": "ec03bd37-8be3-42e7-ab57-4038ba2c2eba"
      },
      "execution_count": null,
      "outputs": [
        {
          "output_type": "stream",
          "name": "stdout",
          "text": [
            "False\n",
            "True\n"
          ]
        }
      ]
    },
    {
      "cell_type": "code",
      "source": [
        "a = np.random.randn(4,4)\n",
        "ata = (a+ a.T) / 2\n",
        "isSymmetric(ata)"
      ],
      "metadata": {
        "colab": {
          "base_uri": "https://localhost:8080/"
        },
        "id": "E6P6UAeJOqO8",
        "outputId": "e3dd43bc-746b-42e0-a908-3b47e4f839ce"
      },
      "execution_count": null,
      "outputs": [
        {
          "output_type": "execute_result",
          "data": {
            "text/plain": [
              "True"
            ]
          },
          "metadata": {},
          "execution_count": 11
        }
      ]
    },
    {
      "cell_type": "code",
      "source": [
        "d1 = np.diag(np.random.randn(5))\n",
        "d2 = np.diag(np.random.randn(5))\n",
        "\n",
        "r1 = d1*d2\n",
        "r2 = d1@d2\n",
        "r1-r2"
      ],
      "metadata": {
        "colab": {
          "base_uri": "https://localhost:8080/"
        },
        "id": "QFg1UJ6XP6zs",
        "outputId": "dae3037d-91ae-4639-b803-d4abec936f8a"
      },
      "execution_count": null,
      "outputs": [
        {
          "output_type": "execute_result",
          "data": {
            "text/plain": [
              "array([[0., 0., 0., 0., 0.],\n",
              "       [0., 0., 0., 0., 0.],\n",
              "       [0., 0., 0., 0., 0.],\n",
              "       [0., 0., 0., 0., 0.],\n",
              "       [0., 0., 0., 0., 0.]])"
            ]
          },
          "metadata": {},
          "execution_count": 12
        }
      ]
    },
    {
      "cell_type": "code",
      "source": [
        "n = 4\n",
        "O = np.ones((n,n))\n",
        "D = np.diag(np.arange(1,n+1)**2)\n",
        "S = np.sqrt(D)\n",
        "\n",
        "pre = D@O\n",
        "pst = O@D\n",
        "both = S@O@S\n",
        "\n",
        "print('Ones matrix:')\n",
        "print(O), print(' ')\n",
        "\n",
        "print('Diagonal matrix: ')\n",
        "print(D), print(' ')\n",
        "\n",
        "print('Sqrt-diagonal matrix: ')\n",
        "print(S), print(' ')\n",
        "\n",
        "print('Pre-multiply by diagonal:')\n",
        "print(pre), print(' ')\n",
        "\n",
        "print('Post-multiply by diagonal: ')\n",
        "print(pst),print(' ')\n",
        "\n",
        "print('Pre- and post-multiply by sqrt-diagonal:')\n",
        "print(both)\n"
      ],
      "metadata": {
        "colab": {
          "base_uri": "https://localhost:8080/"
        },
        "id": "0OMmEmgNXuhe",
        "outputId": "07eb51b2-417f-455a-c92c-a2e5188caeb8"
      },
      "execution_count": null,
      "outputs": [
        {
          "output_type": "stream",
          "name": "stdout",
          "text": [
            "Ones matrix:\n",
            "[[1. 1. 1. 1.]\n",
            " [1. 1. 1. 1.]\n",
            " [1. 1. 1. 1.]\n",
            " [1. 1. 1. 1.]]\n",
            " \n",
            "Diagonal matrix: \n",
            "[[ 1  0  0  0]\n",
            " [ 0  4  0  0]\n",
            " [ 0  0  9  0]\n",
            " [ 0  0  0 16]]\n",
            " \n",
            "Sqrt-diagonal matrix: \n",
            "[[1. 0. 0. 0.]\n",
            " [0. 2. 0. 0.]\n",
            " [0. 0. 3. 0.]\n",
            " [0. 0. 0. 4.]]\n",
            " \n",
            "Pre-multiply by diagonal:\n",
            "[[ 1.  1.  1.  1.]\n",
            " [ 4.  4.  4.  4.]\n",
            " [ 9.  9.  9.  9.]\n",
            " [16. 16. 16. 16.]]\n",
            " \n",
            "Post-multiply by diagonal: \n",
            "[[ 1.  4.  9. 16.]\n",
            " [ 1.  4.  9. 16.]\n",
            " [ 1.  4.  9. 16.]\n",
            " [ 1.  4.  9. 16.]]\n",
            " \n",
            "Pre- and post-multiply by sqrt-diagonal:\n",
            "[[ 1.  2.  3.  4.]\n",
            " [ 2.  4.  6.  8.]\n",
            " [ 3.  6.  9. 12.]\n",
            " [ 4.  8. 12. 16.]]\n"
          ]
        }
      ]
    }
  ]
}